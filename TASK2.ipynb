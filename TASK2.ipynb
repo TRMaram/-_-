{
  "nbformat": 4,
  "nbformat_minor": 0,
  "metadata": {
    "colab": {
      "provenance": []
    },
    "kernelspec": {
      "name": "python3",
      "display_name": "Python 3"
    },
    "language_info": {
      "name": "python"
    }
  },
  "cells": [
    {
      "cell_type": "markdown",
      "source": [
        "# **Stock Portfolio Tracker**\n",
        "\n",
        "*   **Create** a stock portfolio tracking tool that allows users\n",
        "to **add**, **remove**, and **track** the performance of their\n",
        "stock investments.\n",
        "*   Utilize financial APIs for **real-time\n",
        "stock data**.\n",
        "\n"
      ],
      "metadata": {
        "id": "oIS0TmVCi6g6"
      }
    },
    {
      "cell_type": "code",
      "execution_count": 13,
      "metadata": {
        "colab": {
          "base_uri": "https://localhost:8080/"
        },
        "id": "oVH6hv-ui3Rf",
        "outputId": "2c3e8290-4662-48f6-d38a-375618767b2d"
      },
      "outputs": [
        {
          "output_type": "stream",
          "name": "stdout",
          "text": [
            "Requirement already satisfied: yfinance in /usr/local/lib/python3.10/dist-packages (0.2.43)\n",
            "Requirement already satisfied: pandas>=1.3.0 in /usr/local/lib/python3.10/dist-packages (from yfinance) (2.1.4)\n",
            "Requirement already satisfied: numpy>=1.16.5 in /usr/local/lib/python3.10/dist-packages (from yfinance) (1.26.4)\n",
            "Requirement already satisfied: requests>=2.31 in /usr/local/lib/python3.10/dist-packages (from yfinance) (2.32.3)\n",
            "Requirement already satisfied: multitasking>=0.0.7 in /usr/local/lib/python3.10/dist-packages (from yfinance) (0.0.11)\n",
            "Requirement already satisfied: lxml>=4.9.1 in /usr/local/lib/python3.10/dist-packages (from yfinance) (4.9.4)\n",
            "Requirement already satisfied: platformdirs>=2.0.0 in /usr/local/lib/python3.10/dist-packages (from yfinance) (4.3.2)\n",
            "Requirement already satisfied: pytz>=2022.5 in /usr/local/lib/python3.10/dist-packages (from yfinance) (2024.2)\n",
            "Requirement already satisfied: frozendict>=2.3.4 in /usr/local/lib/python3.10/dist-packages (from yfinance) (2.4.4)\n",
            "Requirement already satisfied: peewee>=3.16.2 in /usr/local/lib/python3.10/dist-packages (from yfinance) (3.17.6)\n",
            "Requirement already satisfied: beautifulsoup4>=4.11.1 in /usr/local/lib/python3.10/dist-packages (from yfinance) (4.12.3)\n",
            "Requirement already satisfied: html5lib>=1.1 in /usr/local/lib/python3.10/dist-packages (from yfinance) (1.1)\n",
            "Requirement already satisfied: soupsieve>1.2 in /usr/local/lib/python3.10/dist-packages (from beautifulsoup4>=4.11.1->yfinance) (2.6)\n",
            "Requirement already satisfied: six>=1.9 in /usr/local/lib/python3.10/dist-packages (from html5lib>=1.1->yfinance) (1.16.0)\n",
            "Requirement already satisfied: webencodings in /usr/local/lib/python3.10/dist-packages (from html5lib>=1.1->yfinance) (0.5.1)\n",
            "Requirement already satisfied: python-dateutil>=2.8.2 in /usr/local/lib/python3.10/dist-packages (from pandas>=1.3.0->yfinance) (2.8.2)\n",
            "Requirement already satisfied: tzdata>=2022.1 in /usr/local/lib/python3.10/dist-packages (from pandas>=1.3.0->yfinance) (2024.1)\n",
            "Requirement already satisfied: charset-normalizer<4,>=2 in /usr/local/lib/python3.10/dist-packages (from requests>=2.31->yfinance) (3.3.2)\n",
            "Requirement already satisfied: idna<4,>=2.5 in /usr/local/lib/python3.10/dist-packages (from requests>=2.31->yfinance) (3.8)\n",
            "Requirement already satisfied: urllib3<3,>=1.21.1 in /usr/local/lib/python3.10/dist-packages (from requests>=2.31->yfinance) (2.0.7)\n",
            "Requirement already satisfied: certifi>=2017.4.17 in /usr/local/lib/python3.10/dist-packages (from requests>=2.31->yfinance) (2024.8.30)\n"
          ]
        }
      ],
      "source": [
        "#We'll use the yfinance library to retrieve stock data from Yahoo Finance.\n",
        "!pip install yfinance"
      ]
    },
    {
      "cell_type": "code",
      "source": [
        "def add_stock(symbol, shares):\n",
        "    \"\"\"Add a stock to the portfolio.\"\"\"\n",
        "    if not isinstance(shares, int) or shares <= 0:\n",
        "        print(\"Error: Please enter a valid positive integer for the number of shares.\")\n",
        "        return\n",
        "    if symbol in portfolio:\n",
        "        portfolio[symbol] += shares\n",
        "    else:\n",
        "        portfolio[symbol] = shares\n",
        "    print(f\"Added {shares} shares of {symbol} to the portfolio.\")\n"
      ],
      "metadata": {
        "id": "E2ZJWG6Dn3Ji"
      },
      "execution_count": 26,
      "outputs": []
    },
    {
      "cell_type": "code",
      "source": [
        "def remove_stock(symbol, shares):\n",
        "    \"\"\"Remove a stock from the portfolio.\"\"\"\n",
        "    if not isinstance(shares, int) or shares <= 0:\n",
        "        print(\"Error: Please enter a valid positive integer for the number of shares.\")\n",
        "        return\n",
        "    if symbol in portfolio:\n",
        "        if portfolio[symbol] > shares:\n",
        "            portfolio[symbol] -= shares\n",
        "            print(f\"Removed {shares} shares of {symbol} from the portfolio.\")\n",
        "        elif portfolio[symbol] == shares:\n",
        "            del portfolio[symbol]\n",
        "            print(f\"Removed all shares of {symbol} from the portfolio.\")\n",
        "        else:\n",
        "            print(f\"Error: You are trying to remove more shares than available.\")\n",
        "    else:\n",
        "        print(f\"Error: {symbol} not found in the portfolio.\")\n"
      ],
      "metadata": {
        "id": "MJczePgzn6SR"
      },
      "execution_count": 19,
      "outputs": []
    },
    {
      "cell_type": "code",
      "source": [
        "def get_portfolio_value():\n",
        "    \"\"\"Calculate the current value of the portfolio.\"\"\"\n",
        "    total_value = 0\n",
        "    for symbol, shares in portfolio.items():\n",
        "        stock_info = yf.Ticker(symbol)\n",
        "        price = stock_info.history(period=\"1d\")['Close'].iloc[0]\n",
        "        stock_value = shares * price\n",
        "        total_value += stock_value\n",
        "        print(f\"{symbol}: {shares} shares @ ${price:.2f} = ${stock_value:.2f}\")\n",
        "\n",
        "    print(f\"\\nTotal portfolio value: ${total_value:.2f}\")\n"
      ],
      "metadata": {
        "id": "3lA8uskzn-Pg"
      },
      "execution_count": 16,
      "outputs": []
    },
    {
      "cell_type": "code",
      "source": [
        "def track_stock(symbol):\n",
        "    \"\"\"Track the real-time price of a specific stock.\"\"\"\n",
        "    stock_info = yf.Ticker(symbol)\n",
        "    stock_data = stock_info.history(period=\"1d\")\n",
        "    price = stock_data['Close'].iloc[0]\n",
        "    print(f\"Current price of {symbol}: ${price:.2f}\")\n"
      ],
      "metadata": {
        "id": "PKP0sNA3oBcv"
      },
      "execution_count": 17,
      "outputs": []
    },
    {
      "cell_type": "code",
      "source": [
        "import yfinance as yf\n",
        "\n",
        "# Portfolio dictionary to store stock symbols and number of shares\n",
        "portfolio = {}\n",
        "\n",
        "def portfolio_menu():\n",
        "    \"\"\"Portfolio menu to interact with the user.\"\"\"\n",
        "    while True:\n",
        "        print(\"\\nStock Portfolio Tracker\")\n",
        "        print(\"1. Add stock\")\n",
        "        print(\"2. Remove stock\")\n",
        "        print(\"3. View portfolio\")\n",
        "        print(\"4. Track a specific stock\")\n",
        "        print(\"5. Exit\")\n",
        "        choice = input(\"Choose an option: \")\n",
        "\n",
        "        if choice == '1':\n",
        "            symbol = input(\"Enter stock symbol: \").upper()\n",
        "            shares = int(input(\"Enter number of shares: \"))\n",
        "\n",
        "            add_stock(symbol, shares)\n",
        "        elif choice == '2':\n",
        "            symbol = input(\"Enter stock symbol: \").upper()\n",
        "            shares = int(input(\"Enter number of shares to remove: \"))\n",
        "            remove_stock(symbol, shares)\n",
        "        elif choice == '3':\n",
        "            get_portfolio_value()\n",
        "        elif choice == '4':\n",
        "            symbol = input(\"Enter stock symbol to track: \").upper()\n",
        "            track_stock(symbol)\n",
        "        elif choice == '5':\n",
        "            print(\"Exiting Portfolio Tracker.\")\n",
        "            break\n",
        "        else:\n",
        "            print(\"Invalid option. Please try again.\")\n",
        "\n",
        "# Run the portfolio menu\n",
        "if __name__ == \"__main__\":\n",
        "    portfolio_menu()\n"
      ],
      "metadata": {
        "colab": {
          "base_uri": "https://localhost:8080/"
        },
        "id": "11Y_nbenlrO_",
        "outputId": "cd6ffbbb-72e3-4303-e619-22a67a184759"
      },
      "execution_count": 28,
      "outputs": [
        {
          "output_type": "stream",
          "name": "stdout",
          "text": [
            "\n",
            "Stock Portfolio Tracker\n",
            "1. Add stock\n",
            "2. Remove stock\n",
            "3. View portfolio\n",
            "4. Track a specific stock\n",
            "5. Exit\n",
            "Choose an option: 1\n",
            "Enter stock symbol: a\n",
            "Enter number of shares: 45\n",
            "Added 45 shares of A to the portfolio.\n",
            "\n",
            "Stock Portfolio Tracker\n",
            "1. Add stock\n",
            "2. Remove stock\n",
            "3. View portfolio\n",
            "4. Track a specific stock\n",
            "5. Exit\n",
            "Choose an option: 2\n",
            "Enter stock symbol: a\n",
            "Enter number of shares to remove: 3\n",
            "Removed 3 shares of A from the portfolio.\n",
            "\n",
            "Stock Portfolio Tracker\n",
            "1. Add stock\n",
            "2. Remove stock\n",
            "3. View portfolio\n",
            "4. Track a specific stock\n",
            "5. Exit\n",
            "Choose an option: 2\n",
            "Enter stock symbol: e\n",
            "Enter number of shares to remove: 4\n",
            "Error: E not found in the portfolio.\n",
            "\n",
            "Stock Portfolio Tracker\n",
            "1. Add stock\n",
            "2. Remove stock\n",
            "3. View portfolio\n",
            "4. Track a specific stock\n",
            "5. Exit\n",
            "Choose an option: 5\n",
            "Exiting Portfolio Tracker.\n"
          ]
        }
      ]
    }
  ]
}