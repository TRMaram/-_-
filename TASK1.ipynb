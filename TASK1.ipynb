{
  "nbformat": 4,
  "nbformat_minor": 0,
  "metadata": {
    "colab": {
      "provenance": []
    },
    "kernelspec": {
      "name": "python3",
      "display_name": "Python 3"
    },
    "language_info": {
      "name": "python"
    }
  },
  "cells": [
    {
      "cell_type": "markdown",
      "source": [
        "Hangman Game\n",
        "\n",
        "Design a text-based Hangman game. The program\n",
        "selects a random word, and the player guesses one\n",
        "letter at a time to uncover the word. You can set a\n",
        "limit on the number of incorrect guesses allowed."
      ],
      "metadata": {
        "id": "DjPZxc2vfYtg"
      }
    },
    {
      "cell_type": "code",
      "source": [
        "import random\n",
        "# List of words to choose from\n",
        "word_list = ['python', 'java', 'hangman', 'computer', 'science', 'programming', 'algorithm', 'software','hardware', 'keyboard', 'internet', 'development', 'debugging', 'function']\n",
        "def get_random_word(word_list):\n",
        "    \"\"\"select a random word from the list.\"\"\"\n",
        "    return random.choice(word_list)\n"
      ],
      "metadata": {
        "id": "WmS9wU2Yglm2"
      },
      "execution_count": 3,
      "outputs": []
    },
    {
      "cell_type": "code",
      "source": [
        "def display_word(word, guessed_letters):\n",
        "    \"\"\"display the guessed letters in the word.\"\"\"\n",
        "    return ''.join([letter if letter in guessed_letters else '_' for letter in word])\n"
      ],
      "metadata": {
        "id": "copMUqF1heC4"
      },
      "execution_count": 4,
      "outputs": []
    },
    {
      "cell_type": "code",
      "execution_count": 5,
      "metadata": {
        "colab": {
          "base_uri": "https://localhost:8080/"
        },
        "id": "I_F8qlIHfWga",
        "outputId": "320697fc-91e3-428f-ec64-4dcb7ddf1eb7"
      },
      "outputs": [
        {
          "output_type": "stream",
          "name": "stdout",
          "text": [
            "Welcome to the Hangman Game!\n",
            "\n",
            "Word: ____\n",
            "Incorrect guesses left: 4\n",
            "Guess a letter: a\n",
            "Good guess! 'a' is in the word.\n",
            "\n",
            "Word: _a_a\n",
            "Incorrect guesses left: 4\n",
            "Guess a letter: d\n",
            "Wrong guess! 'd' is not in the word.\n",
            "\n",
            "Word: _a_a\n",
            "Incorrect guesses left: 3\n",
            "Guess a letter: t\n",
            "Wrong guess! 't' is not in the word.\n",
            "\n",
            "Word: _a_a\n",
            "Incorrect guesses left: 2\n",
            "Guess a letter: m\n",
            "Wrong guess! 'm' is not in the word.\n",
            "\n",
            "Word: _a_a\n",
            "Incorrect guesses left: 1\n",
            "Guess a letter: b\n",
            "Wrong guess! 'b' is not in the word.\n",
            "\n",
            "Game over! The word was 'java'.\n"
          ]
        }
      ],
      "source": [
        "\n",
        "def hangman():\n",
        "    print(\"Welcome to the Hangman Game!\")\n",
        "\n",
        "    # Get a random word from the list\n",
        "    word = get_random_word(word_list)\n",
        "    guessed_letters = set()  # To keep track of guessed letters\n",
        "    incorrect_guesses = 0  # To track the number of incorrect guesses\n",
        "    max_incorrect_guesses = 4  # Set the maximum number of incorrect guesses\n",
        "\n",
        "    # Start the game loop\n",
        "    while incorrect_guesses < max_incorrect_guesses:\n",
        "        # Display the current word with guessed letters\n",
        "        print(\"\\nWord:\", display_word(word, guessed_letters))\n",
        "        print(f\"Incorrect guesses left: {max_incorrect_guesses - incorrect_guesses}\")\n",
        "\n",
        "        # Ask the player to guess a letter\n",
        "        guess = input(\"Guess a letter: \").lower()\n",
        "\n",
        "        # Validate the guess\n",
        "        if len(guess) != 1 or not guess.isalpha():\n",
        "            print(\"Invalid input. Please enter a single letter.\")\n",
        "            continue\n",
        "\n",
        "        # Check if the guessed letter is in the word\n",
        "        if guess in word:\n",
        "            guessed_letters.add(guess)\n",
        "            print(f\"Good guess! '{guess}' is in the word.\")\n",
        "\n",
        "            # Check if the player has guessed all the letters\n",
        "            if all(letter in guessed_letters for letter in word):\n",
        "                print(f\"\\nCongratulations! You've guessed the word '{word}' correctly.\")\n",
        "                break\n",
        "        else:\n",
        "            incorrect_guesses += 1\n",
        "            print(f\"Wrong guess! '{guess}' is not in the word.\")\n",
        "\n",
        "    # If the player runs out of incorrect guesses\n",
        "    if incorrect_guesses == max_incorrect_guesses:\n",
        "        print(f\"\\nGame over! The word was '{word}'.\")\n",
        "\n",
        "# Run the hangman game\n",
        "if __name__ == \"__main__\":\n",
        "    hangman()\n"
      ]
    }
  ]
}